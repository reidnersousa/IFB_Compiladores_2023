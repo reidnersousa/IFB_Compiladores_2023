{
  "nbformat": 4,
  "nbformat_minor": 0,
  "metadata": {
    "colab": {
      "provenance": [],
      "authorship_tag": "ABX9TyNpj04mML/cmWVqJ3dRd1Ra",
      "include_colab_link": true
    },
    "kernelspec": {
      "name": "python3",
      "display_name": "Python 3"
    },
    "language_info": {
      "name": "python"
    }
  },
  "cells": [
    {
      "cell_type": "markdown",
      "metadata": {
        "id": "view-in-github",
        "colab_type": "text"
      },
      "source": [
        "<a href=\"https://colab.research.google.com/github/reidnersousa/IFB_Compiladores_2023/blob/main/analisador_sintatico.ipynb\" target=\"_parent\"><img src=\"https://colab.research.google.com/assets/colab-badge.svg\" alt=\"Open In Colab\"/></a>"
      ]
    },
    {
      "cell_type": "code",
      "source": [
        "class SyntaxAnalyzer:\n",
        "    def __init__(self, lexer):\n",
        "        self.lexer = lexer\n",
        "        self.current_token = self.lexer.next_token()\n",
        "\n",
        "    def eat(self, token_type):\n",
        "        if self.current_token.type == token_type:\n",
        "            self.current_token = self.lexer.next_token()\n",
        "        else:\n",
        "            raise SyntaxError(f'Expected {token_type}, got {self.current_token.type} instead.')\n",
        "\n",
        "    def factor(self):\n",
        "        token = self.current_token\n",
        "        if token.type == 'LPAREN':\n",
        "            self.eat('LPAREN')\n",
        "            expr = self.expr()\n",
        "            self.eat('RPAREN')\n",
        "            return expr\n",
        "       \n",
        "        if token.type == 'INTEGER' or token.type == 'FLOAT':\n",
        "            self.eat(token.type)\n",
        "            return token.value\n",
        "\n",
        "\n",
        "        elif token.type =='PONTO':\n",
        "            self.eat('PONTO')\n",
        "            return token.value\n",
        "        else:\n",
        "            raise SyntaxError(f'Unexpected token {token.type}')\n",
        "\n",
        "    def term(self):\n",
        "        result = self.factor()\n",
        "\n",
        "        while self.current_token.type in ('MULT', 'DIV','POWER'):\n",
        "            op = self.current_token\n",
        "            if op.type == 'MULT':\n",
        "                self.eat('MULT')\n",
        "                result *= self.factor()\n",
        "            elif op.type == 'DIV':\n",
        "                self.eat('DIV')\n",
        "                result /= self.factor()\n",
        "            elif op.type =='POWER':\n",
        "                self.eat('POWER')\n",
        "                result **= self.factor()\n",
        "\n",
        "        return result\n",
        "\n",
        "    def expr(self):\n",
        "        result = self.term()\n",
        "\n",
        "        while self.current_token.type in ('PLUS', 'MINUS'):\n",
        "            op = self.current_token\n",
        "            if op.type == 'PLUS':\n",
        "                self.eat('PLUS')\n",
        "                result += self.term()\n",
        "            elif op.type == 'MINUS':\n",
        "                self.eat('MINUS')\n",
        "                result -= self.term()\n",
        "\n",
        "        return result\n",
        "\n",
        "    def parse(self):\n",
        "        print(self.current_token)\n",
        "        print(\"lexer\",self.lexer)\n",
        "        result = self.expr()\n",
        "        if self.current_token.type != 'EOF':\n",
        "            raise SyntaxError('Esperar token no final  da expressão')\n",
        "        return result\n",
        "\n",
        "\n"
      ],
      "metadata": {
        "id": "4Zd7zG8WDgym"
      },
      "execution_count": 54,
      "outputs": []
    },
    {
      "cell_type": "code",
      "source": [
        "class Lexer:\n",
        "  \n",
        "  \n",
        "  def __init__(self, text):\n",
        "  \n",
        "    self.text = text\n",
        "    self.pos = 0\n",
        "\n",
        "  def next_token(self):\n",
        "    \n",
        "    \n",
        "    if self.pos >= len(self.text):\n",
        "        return Token('EOF', None)\n",
        "    current_char = self.text[self.pos]\n",
        "\n",
        "    if current_char.isdigit():\n",
        "        value = ''\n",
        "        while self.pos < len(self.text) and self.text[self.pos].isdigit():\n",
        "            value += self.text[self.pos]\n",
        "            self.pos += 1\n",
        "        return Token('INTEGER', int(value))\n",
        "    \n",
        "    if current_char.isdigit():\n",
        "      value = ''\n",
        "      while self.pos < len(self.text) and (self.text[self.pos].isdigit() or self.text[self.pos] == '.'):\n",
        "          value += self.text[self.pos]\n",
        "          self.pos += 1\n",
        "      if value.count('.') > 1:\n",
        "          raise ValueError(f\"Invalid float value: {value}\")\n",
        "      if value[-1] == '.':\n",
        "          raise ValueError(f\"Invalid float value: {value}\")\n",
        "      if '.' in value:\n",
        "          return Token('FLOAT', float(value))\n",
        "      else:\n",
        "          return Token('INTEGER', int(value))\n",
        "\n",
        "\n",
        "\n",
        "    if current_char == '*':\n",
        "      if self.pos < len(self.text)-1 and self.text[self.pos+1] == '*':\n",
        "          self.pos += 2\n",
        "          return Token('POWER', '**')\n",
        "      else:\n",
        "          self.pos += 1\n",
        "          return Token('MULT', '*')\n",
        "\n",
        "\n",
        "    if current_char == '+':\n",
        "        self.pos += 1\n",
        "        return Token('PLUS', '+')\n",
        "\n",
        "    if current_char == '-':\n",
        "        self.pos += 1\n",
        "        return Token('MINUS', '-')\n",
        "\n",
        "    \n",
        "\n",
        "    if current_char == '/':\n",
        "        self.pos += 1\n",
        "        return Token('DIV', '/')\n",
        "\n",
        "  \n",
        "\n",
        "    if current_char == '(':\n",
        "        self.pos += 1\n",
        "        return Token('LPAREN', '(')\n",
        "\n",
        "    if current_char == ')':\n",
        "        self.pos += 1\n",
        "        return Token('RPAREN', ')')\n",
        "\n",
        "    if current_char == '.':\n",
        "         value = ''\n",
        "         self.pos += 1\n",
        "         while self.pos < len(self.text) and self.text[self.pos].isdigit():\n",
        "           \n",
        "           value += self.text[self.pos]\n",
        "           self.pos += 1\n",
        "         return Token('FLOAT', float(f\"{current_char}{value}\"))\n",
        "\n",
        "\n",
        "    # if none of the above match, raise an error\n",
        "    raise ValueError(f\"Invalid character: {current_char}\")\n"
      ],
      "metadata": {
        "id": "tEbR3SWKEO73"
      },
      "execution_count": 48,
      "outputs": []
    },
    {
      "cell_type": "code",
      "source": [
        "class Token:\n",
        "    def __init__(self, type_, value):\n",
        "        self.type = type_\n",
        "        self.value = value\n",
        "\n",
        "    def __str__(self):\n",
        "        return f'Token({self.type}, {self.value})'\n"
      ],
      "metadata": {
        "id": "py6H-NOvFN1q"
      },
      "execution_count": 44,
      "outputs": []
    },
    {
      "cell_type": "code",
      "source": [
        "lexer = Lexer('(12+1)+2*10')\n",
        "analyzer = SyntaxAnalyzer(lexer)\n",
        "result = analyzer.parse()\n",
        "print(result)\n",
        "\n",
        "soma=(12+1)+2*10\n",
        "print(soma)\n",
        "power =10\n",
        "power**=2\n",
        "print(power) # 24"
      ],
      "metadata": {
        "colab": {
          "base_uri": "https://localhost:8080/"
        },
        "id": "n8qecGdIfR9F",
        "outputId": "ffe9b136-7c32-411a-d5a3-44c611de1061"
      },
      "execution_count": 55,
      "outputs": [
        {
          "output_type": "stream",
          "name": "stdout",
          "text": [
            "Token(LPAREN, ()\n",
            "lexer <__main__.Lexer object at 0x7ff4e7f43e50>\n",
            "33\n",
            "33\n",
            "100\n"
          ]
        }
      ]
    },
    {
      "cell_type": "code",
      "source": [
        "lexer = Lexer('2.0+4.0')\n",
        "analyzer = SyntaxAnalyzer(lexer)\n",
        "result = analyzer.parse()\n",
        "print(result)"
      ],
      "metadata": {
        "colab": {
          "base_uri": "https://localhost:8080/",
          "height": 321
        },
        "id": "vB0k2OpnD-uI",
        "outputId": "9e98ffe3-34af-420c-9818-c6e472003210"
      },
      "execution_count": 58,
      "outputs": [
        {
          "output_type": "stream",
          "name": "stdout",
          "text": [
            "Token(INTEGER, 2)\n",
            "lexer <__main__.Lexer object at 0x7ff4e7f416c0>\n"
          ]
        },
        {
          "output_type": "error",
          "ename": "SyntaxError",
          "evalue": "ignored",
          "traceback": [
            "Traceback \u001b[0;36m(most recent call last)\u001b[0m:\n",
            "  File \u001b[1;32m\"/usr/local/lib/python3.10/dist-packages/IPython/core/interactiveshell.py\"\u001b[0m, line \u001b[1;32m3553\u001b[0m, in \u001b[1;35mrun_code\u001b[0m\n    exec(code_obj, self.user_global_ns, self.user_ns)\n",
            "  File \u001b[1;32m\"<ipython-input-58-811116d4cf7a>\"\u001b[0m, line \u001b[1;32m3\u001b[0m, in \u001b[1;35m<cell line: 3>\u001b[0m\n    result = analyzer.parse()\n",
            "\u001b[0;36m  File \u001b[0;32m\"<ipython-input-54-7cd508dba901>\"\u001b[0;36m, line \u001b[0;32m67\u001b[0;36m, in \u001b[0;35mparse\u001b[0;36m\u001b[0m\n\u001b[0;31m    raise SyntaxError('Esperar token no final  da expressão')\u001b[0m\n",
            "\u001b[0;36m  File \u001b[0;32m\"<string>\"\u001b[0;36m, line \u001b[0;32munknown\u001b[0m\n\u001b[0;31mSyntaxError\u001b[0m\u001b[0;31m:\u001b[0m Esperar token no final  da expressão\n"
          ]
        }
      ]
    }
  ]
}