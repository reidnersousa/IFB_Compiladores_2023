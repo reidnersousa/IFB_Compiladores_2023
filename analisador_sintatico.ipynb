{
  "nbformat": 4,
  "nbformat_minor": 0,
  "metadata": {
    "colab": {
      "provenance": [],
      "authorship_tag": "ABX9TyMCT77Tm498JGwXCxnvuIq1",
      "include_colab_link": true
    },
    "kernelspec": {
      "name": "python3",
      "display_name": "Python 3"
    },
    "language_info": {
      "name": "python"
    }
  },
  "cells": [
    {
      "cell_type": "markdown",
      "metadata": {
        "id": "view-in-github",
        "colab_type": "text"
      },
      "source": [
        "<a href=\"https://colab.research.google.com/github/reidnersousa/IFB_Compiladores_2023/blob/main/analisador_sintatico.ipynb\" target=\"_parent\"><img src=\"https://colab.research.google.com/assets/colab-badge.svg\" alt=\"Open In Colab\"/></a>"
      ]
    },
    {
      "cell_type": "code",
      "source": [
        "class SyntaxAnalyzer:\n",
        "    def __init__(self, lexer):\n",
        "        self.lexer = lexer\n",
        "        self.current_token = self.lexer.next_token()\n",
        "\n",
        "    def eat(self, token_type):\n",
        "        if self.current_token.type == token_type:\n",
        "            self.current_token = self.lexer.next_token()\n",
        "        else:\n",
        "            raise SyntaxError(f'Expected {token_type}, got {self.current_token.type} instead.')\n",
        "\n",
        "    def factor(self):\n",
        "        token = self.current_token\n",
        "        if token.type == 'LPAREN':\n",
        "            self.eat('LPAREN')\n",
        "            expr = self.expr()\n",
        "            self.eat('RPAREN')\n",
        "            return expr\n",
        "        elif token.type == 'INTEGER':\n",
        "            self.eat('INTEGER')\n",
        "            return token.value\n",
        "        else:\n",
        "            raise SyntaxError(f'Unexpected token {token.type}')\n",
        "\n",
        "    def term(self):\n",
        "        result = self.factor()\n",
        "\n",
        "        while self.current_token.type in ('MULT', 'DIV'):\n",
        "            op = self.current_token\n",
        "            if op.type == 'MULT':\n",
        "                self.eat('MULT')\n",
        "                result *= self.factor()\n",
        "            elif op.type == 'DIV':\n",
        "                self.eat('DIV')\n",
        "                result /= self.factor()\n",
        "\n",
        "        return result\n",
        "\n",
        "    def expr(self):\n",
        "        result = self.term()\n",
        "\n",
        "        while self.current_token.type in ('PLUS', 'MINUS'):\n",
        "            op = self.current_token\n",
        "            if op.type == 'PLUS':\n",
        "                self.eat('PLUS')\n",
        "                result += self.term()\n",
        "            elif op.type == 'MINUS':\n",
        "                self.eat('MINUS')\n",
        "                result -= self.term()\n",
        "\n",
        "        return result\n",
        "\n",
        "    def parse(self):\n",
        "        result = self.expr()\n",
        "        if self.current_token.type != 'EOF':\n",
        "            raise SyntaxError('Unexpected token at end of expression')\n",
        "        return result\n",
        "\n",
        "\n"
      ],
      "metadata": {
        "id": "4Zd7zG8WDgym"
      },
      "execution_count": 27,
      "outputs": []
    },
    {
      "cell_type": "code",
      "source": [
        "class Lexer:\n",
        "    def __init__(self, text):\n",
        "        self.text = text\n",
        "        self.pos = 0\n",
        "\n",
        "    def next_token(self):\n",
        "        if self.pos >= len(self.text):\n",
        "            return Token('EOF', None)\n",
        "        current_char = self.text[self.pos]\n",
        "\n",
        "        if current_char.isdigit():\n",
        "            value = ''\n",
        "            while self.pos < len(self.text) and self.text[self.pos].isdigit():\n",
        "                value += self.text[self.pos]\n",
        "                self.pos += 1\n",
        "            return Token('INTEGER', int(value))\n",
        "\n",
        "        if current_char == '+':\n",
        "            self.pos += 1\n",
        "            return Token('PLUS', '+')\n",
        "\n",
        "        if current_char == '-':\n",
        "            self.pos += 1\n",
        "            return Token('MINUS', '-')\n",
        "\n",
        "        if current_char == '*':\n",
        "            self.pos += 1\n",
        "            return Token('MULT', '*')\n",
        "\n",
        "        if current_char == '/':\n",
        "            self.pos += 1\n",
        "            return Token('DIV', '/')\n",
        "\n",
        "        if current_char == '(':\n",
        "            self.pos += 1\n",
        "            return Token('LPAREN', '(')\n",
        "\n",
        "        if current_char == ')':\n",
        "            self.pos += 1\n",
        "            return Token('RPAREN', ')')\n",
        "\n",
        "        # if none of the above match, raise an error\n",
        "        raise ValueError(f\"Invalid character: {current_char}\")\n"
      ],
      "metadata": {
        "id": "tEbR3SWKEO73"
      },
      "execution_count": 15,
      "outputs": []
    },
    {
      "cell_type": "code",
      "source": [
        "class Token:\n",
        "    def __init__(self, type_, value):\n",
        "        self.type = type_\n",
        "        self.value = value\n",
        "\n",
        "    def __str__(self):\n",
        "        return f'Token({self.type}, {self.value})'\n"
      ],
      "metadata": {
        "id": "py6H-NOvFN1q"
      },
      "execution_count": 14,
      "outputs": []
    },
    {
      "cell_type": "code",
      "source": [
        "lexer = Lexer('(12+1)+2*10')\n",
        "analyzer = SyntaxAnalyzer(lexer)\n",
        "result = analyzer.parse()\n",
        "print(result)\n"
      ],
      "metadata": {
        "colab": {
          "base_uri": "https://localhost:8080/"
        },
        "id": "35DwKUwDEQhv",
        "outputId": "7855ccde-357c-4927-ba4e-b90537fcaae2"
      },
      "execution_count": 36,
      "outputs": [
        {
          "output_type": "stream",
          "name": "stdout",
          "text": [
            "33\n"
          ]
        }
      ]
    }
  ]
}