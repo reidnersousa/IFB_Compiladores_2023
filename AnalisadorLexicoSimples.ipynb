{
  "nbformat": 4,
  "nbformat_minor": 0,
  "metadata": {
    "colab": {
      "provenance": [],
      "authorship_tag": "ABX9TyO1zHYmahI/uy07jnJYysbH",
      "include_colab_link": true
    },
    "kernelspec": {
      "name": "python3",
      "display_name": "Python 3"
    },
    "language_info": {
      "name": "python"
    }
  },
  "cells": [
    {
      "cell_type": "markdown",
      "metadata": {
        "id": "view-in-github",
        "colab_type": "text"
      },
      "source": [
        "<a href=\"https://colab.research.google.com/github/reidnersousa/IFB_Compiladores_2023/blob/main/AnalisadorLexicoSimples.ipynb\" target=\"_parent\"><img src=\"https://colab.research.google.com/assets/colab-badge.svg\" alt=\"Open In Colab\"/></a>"
      ]
    },
    {
      "cell_type": "markdown",
      "source": [
        "Analisador lexico "
      ],
      "metadata": {
        "id": "alvomxOOfCua"
      }
    },
    {
      "cell_type": "code",
      "source": [
        "class Token:\n",
        "    def __init__(self, type_, value):\n",
        "        self.type = type_\n",
        "        self.value = value\n",
        "\n",
        "    def __str__(self):\n",
        "        return f'Token({self.type}, {self.value})'\n",
        "\n",
        "class Lexer:\n",
        "    def __init__(self, text):\n",
        "        self.text = text\n",
        "        self.pos = 0\n",
        "\n",
        "    def __str__(self):\n",
        "        return f'Lexer ({self.text}, {self.pos})'\n",
        "\n",
        "    def error(self):\n",
        "        raise Exception('Caractere inválido')\n",
        "\n",
        "    def get_next_token(self):\n",
        "        if self.pos > len(self.text) - 1:\n",
        "            return Token('EOF', None)\n",
        "\n",
        "        current_char = self.text[self.pos]\n",
        "\n",
        "        if current_char.isdigit():\n",
        "            value = ''\n",
        "            while self.pos < len(self.text) and self.text[self.pos].isdigit():\n",
        "                value += self.text[self.pos]\n",
        "                self.pos += 1\n",
        "            return Token('INTEGER', int(value))\n",
        "\n",
        "        if current_char == '+':\n",
        "            self.pos += 1\n",
        "            return Token('PLUS', '+')\n",
        "\n",
        "        if current_char == '-':\n",
        "            self.pos += 1\n",
        "            return Token('MINUS', '-')\n",
        "\n",
        "        if current_char == '*':\n",
        "            self.pos += 1\n",
        "            return Token('MULT', '*')\n",
        "\n",
        "        if current_char == '/':\n",
        "            self.pos += 1\n",
        "            return Token('DIV', '/')\n",
        "\n",
        "        self.error()\n"
      ],
      "metadata": {
        "id": "IhytGeVBfSC2"
      },
      "execution_count": 1,
      "outputs": []
    },
    {
      "cell_type": "markdown",
      "source": [
        "teste"
      ],
      "metadata": {
        "id": "3hFo6dDPfZuk"
      }
    },
    {
      "cell_type": "code",
      "source": [
        "\n",
        "lexer = Lexer('3+5*2-6/3')\n",
        "while True:\n",
        "    token = lexer.get_next_token()\n",
        "    print(token)\n",
        "    if token.type == 'EOF':\n",
        "        break\n"
      ],
      "metadata": {
        "colab": {
          "base_uri": "https://localhost:8080/"
        },
        "id": "l70woNVZfauc",
        "outputId": "847cc392-6132-4eaf-9585-618f6b679ea7"
      },
      "execution_count": 8,
      "outputs": [
        {
          "output_type": "stream",
          "name": "stdout",
          "text": [
            "Token(INTEGER, 3)\n",
            "Token(PLUS, +)\n",
            "Token(INTEGER, 5)\n",
            "Token(MULT, *)\n",
            "Token(INTEGER, 2)\n",
            "Token(MINUS, -)\n",
            "Token(INTEGER, 6)\n",
            "Token(DIV, /)\n",
            "Token(INTEGER, 3)\n",
            "Token(EOF, None)\n"
          ]
        }
      ]
    }
  ]
}