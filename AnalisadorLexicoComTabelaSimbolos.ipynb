{
  "nbformat": 4,
  "nbformat_minor": 0,
  "metadata": {
    "colab": {
      "provenance": [],
      "authorship_tag": "ABX9TyPNDopuInzWdmsrGhI4gF5i",
      "include_colab_link": true
    },
    "kernelspec": {
      "name": "python3",
      "display_name": "Python 3"
    },
    "language_info": {
      "name": "python"
    }
  },
  "cells": [
    {
      "cell_type": "markdown",
      "metadata": {
        "id": "view-in-github",
        "colab_type": "text"
      },
      "source": [
        "<a href=\"https://colab.research.google.com/github/reidnersousa/IFB_Compiladores_2023/blob/main/AnalisadorLexicoComTabelaSimbolos.ipynb\" target=\"_parent\"><img src=\"https://colab.research.google.com/assets/colab-badge.svg\" alt=\"Open In Colab\"/></a>"
      ]
    },
    {
      "cell_type": "code",
      "execution_count": 41,
      "metadata": {
        "id": "MwPOgQyDpRQm"
      },
      "outputs": [],
      "source": [
        "class Token:\n",
        "    def __init__(self, type_, value):\n",
        "        self.type = type_\n",
        "        self.value = value\n",
        "\n",
        "    def __str__(self):\n",
        "        return f'Token({self.type}, {self.value})'\n",
        "\n",
        "class Lexer:\n",
        "    def __init__(self, text):\n",
        "        self.text = text\n",
        "        self.pos = 0\n",
        "        self.current_char = self.text[self.pos]\n",
        "        self.reserved_keywords = {\n",
        "            'if': Token('IF', 'if'),\n",
        "            'else': Token('ELSE', 'else'),\n",
        "            'while': Token('WHILE', 'while'),\n",
        "            'int': Token('INT', 'int'),\n",
        "            'float': Token('FLOAT', 'float'),\n",
        "            'string': Token('STRING', 'string')\n",
        "        }\n",
        "        self.symbol_table = {}\n",
        "\n",
        "    def error(self):\n",
        "        raise Exception('Caractere inválido')\n",
        "\n",
        "    def advance(self):\n",
        "        self.pos += 1\n",
        "        if self.pos > len(self.text) - 1:\n",
        "            self.current_char = None\n",
        "        else:\n",
        "            self.current_char = self.text[self.pos]\n",
        "\n",
        "    def skip_whitespace(self):\n",
        "        while self.current_char is not None and self.current_char.isspace():\n",
        "            self.advance()\n",
        "\n",
        "    def get_number(self):\n",
        "        result = ''\n",
        "        while self.current_char is not None and (self.current_char.isdigit() or self.current_char == '.'):\n",
        "            result += self.current_char\n",
        "            self.advance()\n",
        "        if '.' in result:\n",
        "            return Token('FLOAT', float(result))\n",
        "        else:\n",
        "            return Token('INTEGER', int(result))\n",
        "\n",
        "    def get_string(self):\n",
        "            result = ''\n",
        "            self.advance()\n",
        "            while self.current_char is not None and self.current_char != \"'\":\n",
        "                result += self.current_char\n",
        "                self.advance()\n",
        "            self.advance()\n",
        "            return Token('STRING', result)\n",
        "\n",
        "\n",
        "\n",
        "    def get_next_token(self):\n",
        "        while self.current_char is not None:\n",
        "\n",
        "            if self.current_char.isspace():\n",
        "                self.skip_whitespace()\n",
        "                continue\n",
        "\n",
        "            if self.current_char.isdigit() or self.current_char == '.':\n",
        "                return self.get_number()\n",
        "\n",
        "            if self.current_char == '+':\n",
        "                self.advance()\n",
        "                return Token('PLUS', '+')\n",
        "\n",
        "            if self.current_char == '-':\n",
        "                self.advance()\n",
        "                return Token('MINUS', '-')\n",
        "\n",
        "            if self.current_char == '*':\n",
        "                self.advance()\n",
        "                return Token('MULT', '*')\n",
        "\n",
        "            if self.current_char == '/':\n",
        "                self.advance()\n",
        "                return Token('DIV', '/')\n",
        "\n",
        "            if self.current_char == '(':\n",
        "                self.advance()\n",
        "                return Token('LPAREN', '(')\n",
        "\n",
        "            if self.current_char == ')':\n",
        "                self.advance()\n",
        "                return Token('RPAREN', ')')\n",
        "\n",
        "            if self.current_char.isalpha():\n",
        "                identifier = ''\n",
        "                while self.current_char is not None and (self.current_char.isalpha() or self.current_char.isdigit()):\n",
        "                    identifier += self.current_char\n",
        "                    self.advance()\n",
        "                if identifier in self.reserved_keywords:\n",
        "                    return self.reserved_keywords[identifier]\n",
        "                if identifier in self.symbol_table:\n",
        "                    return self.symbol_table[identifier]\n",
        "                token = Token('IDENTIFIER', identifier)\n",
        "                self.symbol_table[identifier] = token\n",
        "                return token\n",
        "\n",
        "            if self.current_char == '=':\n",
        "                self.advance()\n",
        "                return Token('ASSIGN', '=')\n",
        "\n",
        "            if self.current_char == ';':\n",
        "                self.advance()\n",
        "                return Token('SEMI', ';')\n",
        "\n",
        "            if self.current_char == '{':\n",
        "                self.advance()\n",
        "                return Token('LBRACE', '{')\n",
        "\n",
        "            if self.current_char == '}':\n",
        "                self.advance()\n",
        "                return Token('RBRACE', '}')\n",
        "\n",
        "            self.error()\n",
        "\n",
        "        return Token('EOF', None)\n",
        "\n"
      ]
    },
    {
      "cell_type": "markdown",
      "source": [
        "teste"
      ],
      "metadata": {
        "id": "oyqgkMlypiE8"
      }
    },
    {
      "cell_type": "code",
      "source": [
        "#lexer = Lexer('int x = 42; float y = 3.14; while (x > 0) { y = y / 2; x = x - 1; }')erro\n",
        "# lexer = Lexer ('int x= 42 float y = 3.14;') ## ok\n",
        "# lexer = Lexer ('int x=1 ; int y=2; z; z = x + y;')\n",
        "lexer = Lexer ('int valor = 10 ; int x =10 ; divisao = valor / x') # ok\n",
        "\n",
        "#lexer = Lexer ('string nome = 'aberto' ')  erro \n",
        "#lexer = Lexer('11>10;') # erro #\n",
        "while True:\n",
        "    token = lexer.get_next_token()\n",
        "    print(token)\n",
        "    if token.type == 'EOF':\n",
        "        break\n"
      ],
      "metadata": {
        "colab": {
          "base_uri": "https://localhost:8080/"
        },
        "id": "blL4fyOapjIb",
        "outputId": "f9b0faec-eba0-4556-db00-1f6fa7d535d2"
      },
      "execution_count": 43,
      "outputs": [
        {
          "output_type": "stream",
          "name": "stdout",
          "text": [
            "Token(INT, int)\n",
            "Token(IDENTIFIER, valor)\n",
            "Token(ASSIGN, =)\n",
            "Token(INTEGER, 10)\n",
            "Token(SEMI, ;)\n",
            "Token(INT, int)\n",
            "Token(IDENTIFIER, x)\n",
            "Token(ASSIGN, =)\n",
            "Token(INTEGER, 10)\n",
            "Token(SEMI, ;)\n",
            "Token(IDENTIFIER, divisao)\n",
            "Token(ASSIGN, =)\n",
            "Token(IDENTIFIER, valor)\n",
            "Token(DIV, /)\n",
            "Token(IDENTIFIER, x)\n",
            "Token(EOF, None)\n"
          ]
        }
      ]
    },
    {
      "cell_type": "code",
      "source": [],
      "metadata": {
        "colab": {
          "base_uri": "https://localhost:8080/"
        },
        "id": "GxHapgxB1LfX",
        "outputId": "84eb1492-62f5-4fe9-a794-6e0c7e5f02d1"
      },
      "execution_count": 35,
      "outputs": [
        {
          "output_type": "execute_result",
          "data": {
            "text/plain": [
              "True"
            ]
          },
          "metadata": {},
          "execution_count": 35
        }
      ]
    }
  ]
}