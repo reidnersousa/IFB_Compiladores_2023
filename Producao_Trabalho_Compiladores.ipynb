{
  "nbformat": 4,
  "nbformat_minor": 0,
  "metadata": {
    "colab": {
      "provenance": [],
      "include_colab_link": true
    },
    "kernelspec": {
      "name": "python3",
      "display_name": "Python 3"
    },
    "language_info": {
      "name": "python"
    }
  },
  "cells": [
    {
      "cell_type": "markdown",
      "metadata": {
        "id": "view-in-github",
        "colab_type": "text"
      },
      "source": [
        "<a href=\"https://colab.research.google.com/github/reidnersousa/IFB_Compiladores_2023/blob/main/Producao_Trabalho_Compiladores.ipynb\" target=\"_parent\"><img src=\"https://colab.research.google.com/assets/colab-badge.svg\" alt=\"Open In Colab\"/></a>"
      ]
    },
    {
      "cell_type": "code",
      "source": [
        "analisador lexico(parse)"
      ],
      "metadata": {
        "id": "Bcy14_wKcJsv"
      },
      "execution_count": null,
      "outputs": []
    },
    {
      "cell_type": "code",
      "execution_count": null,
      "metadata": {
        "id": "p4Nr_RBTJUjq",
        "colab": {
          "base_uri": "https://localhost:8080/",
          "height": 235
        },
        "outputId": "30dd32b7-610f-41ea-aeb6-9aca33bcc44a"
      },
      "outputs": [
        {
          "output_type": "error",
          "ename": "NameError",
          "evalue": "ignored",
          "traceback": [
            "\u001b[0;31m---------------------------------------------------------------------------\u001b[0m",
            "\u001b[0;31mNameError\u001b[0m                                 Traceback (most recent call last)",
            "\u001b[0;32m<ipython-input-1-9ac01058332c>\u001b[0m in \u001b[0;36m<cell line: 7>\u001b[0;34m()\u001b[0m\n\u001b[1;32m      5\u001b[0m \u001b[0;34m\u001b[0m\u001b[0m\n\u001b[1;32m      6\u001b[0m \u001b[0;34m\u001b[0m\u001b[0m\n\u001b[0;32m----> 7\u001b[0;31m \u001b[0;32mdef\u001b[0m \u001b[0mcreate_ac_grammar\u001b[0m\u001b[0;34m(\u001b[0m\u001b[0;34m)\u001b[0m\u001b[0;34m->\u001b[0m\u001b[0mGrammar\u001b[0m\u001b[0;34m:\u001b[0m\u001b[0;34m\u001b[0m\u001b[0;34m\u001b[0m\u001b[0m\n\u001b[0m\u001b[1;32m      8\u001b[0m     \u001b[0mG\u001b[0m \u001b[0;34m=\u001b[0m \u001b[0mGrammar\u001b[0m\u001b[0;34m(\u001b[0m\u001b[0;34m)\u001b[0m\u001b[0;34m\u001b[0m\u001b[0;34m\u001b[0m\u001b[0m\n\u001b[1;32m      9\u001b[0m \u001b[0;34m\u001b[0m\u001b[0m\n",
            "\u001b[0;31mNameError\u001b[0m: name 'Grammar' is not defined"
          ]
        }
      ],
      "source": [
        "import re\n",
        "from grammar import Grammar\n",
        "from token_sequence import token_sequence\n",
        "from guided_ll1 import guided_ll1_parser\n",
        "\n",
        "\n",
        "\n",
        "def create_ac_grammar()->Grammar:\n",
        "    G = Grammar()\n",
        "\n",
        "    G.add_terminal('float')\n",
        "    G.add_terminal('int')\n",
        "    G.add_terminal('id')\n",
        "    G.add_terminal('assignment')\n",
        "    G.add_terminal('plus')\n",
        "    G.add_terminal('minus')\n",
        "    G.add_terminal('mul')\n",
        "    G.add_terminal('div')\n",
        "    G.add_terminal('inum')\n",
        "    G.add_terminal('fnum')\n",
        "    G.add_terminal('nomeVariavel')\n",
        "    G.add_terminal('lbracket')   #[\n",
        "    G.add_terminal('rbracket')   #]\n",
        "    G.add_terminal('lbrace')     #{\n",
        "    G.add_terminal('rbrace')     #}\n",
        "    G.add_terminal('lparen')     #(\n",
        "    G.add_terminal('rparen')  #;\n",
        "    G.add_terminal('comma')       #,\n",
        "    G.add_terminal('maior')       #\n",
        "    G.add_terminal('maiorIgual')\n",
        "    G.add_terminal('menor')\n",
        "    G.add_terminal('menorIgual')\n",
        "    G.add_terminal('igual')\n",
        "    G.add_terminal('if')\n",
        "    G.add_terminal('else')\n",
        "    G.add_terminal('while')\n",
        "    G.add_terminal('endWhile')\n",
        "    G.add_terminal('endIf')\n",
        "    G.add_terminal('diferente')\n",
        "    G.add_terminal('print')\n",
        "    G.add_terminal('$')\n",
        "    G.add_terminal('then')\n",
        "\n",
        "\n",
        "    G.add_nonterminal('Programa')\n",
        "    G.add_nonterminal('Declaracoes')\n",
        "    G.add_nonterminal('Declaracao')\n",
        "    G.add_nonterminal('Declaracao_Variaveis')\n",
        "    G.add_nonterminal('Instrucao_Repeitcao')\n",
        "    G.add_nonterminal('Atribuicao')\n",
        "    G.add_nonterminal('Instrucao_Condicional')\n",
        "    G.add_nonterminal('Bloco')\n",
        "    G.add_nonterminal('Tipo')\n",
        "    G.add_nonterminal('Expressao')\n",
        "    G.add_nonterminal('Expressao_Aritmetica')\n",
        "    G.add_nonterminal('T')\n",
        "    G.add_nonterminal('T2')\n",
        "    G.add_nonterminal('E2')\n",
        "    G.add_nonterminal('F')\n",
        "    G.add_nonterminal('Comando')\n",
        "    G.add_nonterminal('Comandos')\n",
        "    G.add_nonterminal('Senao')\n",
        "    G.add_nonterminal('Estrutura_repeticao')\n",
        "    G.add_nonterminal('Estrutura_decisao')\n",
        "    G.add_nonterminal('Expressao_comparativa')\n",
        "    G.add_nonterminal('Expressao_aritmetica')\n",
        "    G.add_nonterminal('Comparacao')\n",
        "    G.add_nonterminal('Constante')\n",
        "    G.add_nonterminal('Operacao')\n",
        "    G.add_nonterminal('Identificador')\n",
        "    G.add_nonterminal('Instrucao_print')\n",
        "    G.add_nonterminal('Entao')\n",
        "    G.add_production('Programa', ['Declaracoes','Bloco','$'])\n",
        "    G.add_production('Declaracoes', ['Declaracao', 'Declaracoes'])\n",
        "    G.add_production('Declaracoes', [])\n",
        "    G.add_production('Declaracao', ['Tipo', 'Identificador'])\n",
        "    G.add_production('Tipo', ['int'])\n",
        "    G.add_production('Tipo', ['float'])\n",
        "    G.add_production('Bloco',['Comando','Comandos'])\n",
        "    G.add_production('Comandos',['Comando','Comandos'])\n",
        "    G.add_production('Comandos',[])\n",
        "    G.add_production('Comando',['Atribuicao'])\n",
        "    G.add_production('Atribuicao', ['Identificador', 'assignment', 'Expressao_aritmetica'])\n",
        "    G.add_production('Comando',['Estrutura_repeticao'])\n",
        "    G.add_production('Identificador',['id'])\n",
        "    G.add_production('Comando',['Estrutura_decisao'])\n",
        "    G.add_production('Estrutura_repeticao',['while','lparen','Expressao_comparativa','rparen','do','Bloco','endWhile'])\n",
        "    G.add_production('Estrutura_decisao', ['if', 'lparen', 'Expressao_comparativa', 'rparen', 'then', 'Bloco', 'Senao','endIf'])\n",
        "    G.add_production('Senao', [])\n",
        "    G.add_production('Senao', ['else','Bloco'])\n",
        "    G.add_production('Expressao_aritmetica', ['T','E2'])\n",
        "    G.add_production('E2', [])\n",
        "    G.add_production('E2', ['plus', 'T', 'E2'])\n",
        "    G.add_production('E2', ['minus', 'T', 'E2'])\n",
        "    G.add_production('T',['F', 'T2'])\n",
        "    G.add_production('T2',['mul', 'F','T2'])\n",
        "    G.add_production('T2',['div', 'F','T2'])\n",
        "    G.add_production('T2',[])\n",
        "    G.add_production('F',['inum'])\n",
        "    G.add_production('F',['fnum'])\n",
        "    G.add_production('F',['id'])\n",
        "    G.add_production('F', ['lparen', 'Expressao_aritmetica', 'rparen'])\n",
        "    G.add_production('Instrucao_print', ['print', 'lparen', 'Expressao_aritmetica','rparen'])\n",
        "    G.add_production('Expressao_comparativa', ['Expressao_aritmetica', 'Comparacao', 'Expressao_aritmetica'])\n",
        "    G.add_production('Comparacao', ['maior'])\n",
        "    G.add_production('Comparacao', ['maiorIgual'])\n",
        "    G.add_production('Comparacao', ['menor'])\n",
        "    G.add_production('Comparacao', ['menorIgual'])\n",
        "    G.add_production('Comparacao', ['igual'])\n",
        "    G.add_production('Comparacao', ['diferente'])\n",
        "    return G\n",
        "\n",
        "\n",
        "\n",
        "\n",
        "regex_table = {\n",
        "    r'^float$': 'float',\n",
        "    r'^int$': 'int',\n",
        "    r'^print$': 'print',\n",
        "    r'^[a-z][a-z0-9]*$': 'id',\n",
        "    r'^=$': 'assignment',\n",
        "    r'^\\+$': 'plus',\n",
        "    r'^\\-$': 'minus',\n",
        "    r'^\\*$':'mul',\n",
        "    r'^\\\\$':'div',\n",
        "    r'^==$':'igual',\n",
        "    r'^>$' :'maior',\n",
        "    r'^>=$':'maiorIgual',\n",
        "    r'^<=$':'menorIgual',\n",
        "    r'^<$':'menor',\n",
        "    r'^[0-9]+$': 'inum',\n",
        "    r'^[0-9]+\\.[0-9]+$': 'fnum',\n",
        "    r'^\\($':'lparen',\n",
        "    r'^\\)$':'rparen',\n",
        "    r'^do$':'do',\n",
        "    r'^while$':'while',\n",
        "    r'^endwhile$':'endWhile',\n",
        "    r'^if$':'if',\n",
        "    r'^endIf$':'endIf',\n",
        "    r'^then$':'then'\n",
        "}\n",
        "\n",
        "def lexical_analyser(filepath) -> str:\n",
        "    with open(filepath,'r') as f:\n",
        "        token_sequence = []\n",
        "        tokens = []\n",
        "        for line in f:\n",
        "            tokens = tokens + line.split(' ')\n",
        "        for t in tokens:\n",
        "            found = False\n",
        "            for regex,category in regex_table.items():\n",
        "                if re.match(regex,t):\n",
        "                    token_sequence.append(category)\n",
        "                    found=True\n",
        "                    break\n",
        "            if not found:\n",
        "                print('Lexical error: ',t)\n",
        "                exit(0)\n",
        "    token_sequence.append('$')\n",
        "    return token_sequence\n",
        "\n",
        "\n",
        "if __name__ == '__main__':\n",
        "    filepath = 'programa_teste_2.ac'\n",
        "    tokens = lexical_analyser(filepath)\n",
        "    print(tokens, 'tokens')\n",
        "    ts = token_sequence(tokens)\n",
        "    print(ts)\n",
        "    G = create_ac_grammar()\n",
        "    parser = guided_ll1_parser(G)\n",
        "    parser.parse(ts)\n"
      ]
    },
    {
      "cell_type": "code",
      "source": [
        "!python .py"
      ],
      "metadata": {
        "colab": {
          "base_uri": "https://localhost:8080/"
        },
        "id": "b1lYjueLW0PX",
        "outputId": "40dd867e-98e4-497e-84d9-2bfd414c5b50"
      },
      "execution_count": null,
      "outputs": [
        {
          "output_type": "stream",
          "name": "stdout",
          "text": [
            "Syntax error. No rule for ( Expr , assign )\n"
          ]
        }
      ]
    },
    {
      "cell_type": "markdown",
      "source": [
        "# Nova seção"
      ],
      "metadata": {
        "id": "xvPsG1F9WhaN"
      }
    },
    {
      "cell_type": "code",
      "source": [
        "if (x == 10) then\n",
        " x=1\n",
        "endIf\n",
        "\n",
        "if (x == 10) then\n",
        " x=1\n",
        "else\n",
        "  x =11\n",
        "endIf\n",
        "\n",
        "while (x> y) do\n",
        "  y=10\n",
        "endWhile"
      ],
      "metadata": {
        "id": "kiuafNA7hsP7"
      },
      "execution_count": null,
      "outputs": []
    }
  ]
}